{
 "cells": [
  {
   "cell_type": "markdown",
   "metadata": {},
   "source": [
    "# VIZBI Tutorial Session\n",
    "### Part 2: Cytoscape, IPython, Docker, and reproducible network data visualization workflows\n",
    "\n",
    "Tuesday, 3/24/2015\n",
    "\n",
    "\n",
    "### Lesson 0: Introduction to IPython Notebook\n",
    "\n",
    "by [Keiichiro Ono](http://keiono.github.io/)\n",
    "\n",
    "----\n",
    "\n",
    "![](http://ipython.org/_static/IPy_header.png)\n",
    "\n",
    "IPython Notebook is a simple tool to run your code in human-frienfly documents (Notebooks), and you can boost your productivity by learning some basic commands.\n",
    "\n",
    "### Keyboard Shortcuts\n",
    "There are many keyboard shortcuts, but for now, you just need to learn the following:\n",
    "\n",
    "* __Shift-Enter__ - Run cell\n",
    "* __Ctrl-Enter__ - Run cell in-place\n",
    "* __Alt-Enter__ - Run cell, insert below\n",
    "\n",
    "* __Esc and Enter__ - Command mode and edit mode\n",
    "\n",
    "#### Basic Commands in _Command Mode_\n",
    "\n",
    "* x - cut cell\n",
    "* v - paste cell below\n",
    "* SHIFT + v - paste cell above\n",
    "* dd - dlete cell\n",
    "\n",
    "Complete list of shortcuts is available under ___Help___ menu:\n",
    "\n",
    "![](http://cl.ly/aJfd/ipython_help.png)\n",
    "\n",
    "OK, let's start!"
   ]
  },
  {
   "cell_type": "code",
   "execution_count": 1,
   "metadata": {
    "collapsed": false,
    "scrolled": true
   },
   "outputs": [
    {
     "name": "stdout",
     "output_type": "stream",
     "text": [
      "Hello IPython World!\n"
     ]
    }
   ],
   "source": [
    "print('Hello IPython World!') "
   ]
  },
  {
   "cell_type": "code",
   "execution_count": 2,
   "metadata": {
    "collapsed": false
   },
   "outputs": [],
   "source": [
    "result1 = 1+1\n",
    "result2 = 2*3"
   ]
  },
  {
   "cell_type": "code",
   "execution_count": 3,
   "metadata": {
    "collapsed": false
   },
   "outputs": [
    {
     "data": {
      "text/plain": [
       "2"
      ]
     },
     "execution_count": 3,
     "metadata": {},
     "output_type": "execute_result"
    }
   ],
   "source": [
    "result2\n",
    "result1"
   ]
  },
  {
   "cell_type": "code",
   "execution_count": 4,
   "metadata": {
    "collapsed": false
   },
   "outputs": [
    {
     "name": "stdout",
     "output_type": "stream",
     "text": [
      "2nd = 6\n",
      "1st = 2\n"
     ]
    }
   ],
   "source": [
    "print('2nd = ' + str(result2))\n",
    "print('1st = ' + str(result1))"
   ]
  },
  {
   "cell_type": "code",
   "execution_count": 5,
   "metadata": {
    "collapsed": false
   },
   "outputs": [
    {
     "name": "stdout",
     "output_type": "stream",
     "text": [
      "2nd = 6\n",
      "1st = 2\n"
     ]
    }
   ],
   "source": [
    "print('2nd = ' + str(result2))\n",
    "print('1st = ' + str(result1))"
   ]
  },
  {
   "cell_type": "markdown",
   "metadata": {},
   "source": [
    "## Run System Command\n",
    "You can run system commands by adding __!__ at the beggining.\n",
    "\n",
    "Remember: you are running this notebook in Linux container.  You cannot use Windows/Mac commands even if you are using those machines!"
   ]
  },
  {
   "cell_type": "code",
   "execution_count": 6,
   "metadata": {
    "collapsed": false
   },
   "outputs": [
    {
     "name": "stdout",
     "output_type": "stream",
     "text": [
      "total 6.5M\r\n",
      "drwxr-xr-x 1 1000 staff  408 Mar 23 07:51 .\r\n",
      "drwxr-xr-x 1 1000 staff  340 Mar 20 07:29 ..\r\n",
      "drwxr-xr-x 1 1000 staff  102 Mar 20 03:56 answers\r\n",
      "drwxr-xr-x 1 1000 staff  646 Mar 23 07:50 data\r\n",
      "-rw-r--r-- 1 1000 staff  11K Mar 23 07:50 .DS_Store\r\n",
      "-rw-r--r-- 1 1000 staff 761K Mar 23 06:21 GraphToolDemo.ipynb\r\n",
      "drwxr-xr-x 1 1000 staff  272 Mar 23 06:21 .ipynb_checkpoints\r\n",
      "-rw-r--r-- 1 1000 staff 9.9K Mar 23 07:51 Lesson_0_IPython_Notebook_Basics.ipynb\r\n",
      "-rw-r--r-- 1 1000 staff 181K Mar 23 07:51 Lesson_1_Introduction_to_cyREST.ipynb\r\n",
      "-rw-r--r-- 1 1000 staff 2.3M Mar 23 07:23 Lesson_2_Graph_Libraries.ipynb\r\n",
      "-rw-r--r-- 1 1000 staff 3.3M Mar 23 02:21 Lesson_3_Visualization.ipynb\r\n",
      "-rw-r--r-- 1 1000 staff 1.3K Mar 23 05:47 sample.graphml\r\n"
     ]
    }
   ],
   "source": [
    "!ls -alh"
   ]
  },
  {
   "cell_type": "code",
   "execution_count": 7,
   "metadata": {
    "collapsed": false
   },
   "outputs": [
    {
     "name": "stdout",
     "output_type": "stream",
     "text": [
      "eth0      Link encap:Ethernet  HWaddr 02:42:ac:11:00:02  \r\n",
      "          inet addr:172.17.0.2  Bcast:0.0.0.0  Mask:255.255.0.0\r\n",
      "          inet6 addr: fe80::42:acff:fe11:2/64 Scope:Link\r\n",
      "          UP BROADCAST RUNNING  MTU:1500  Metric:1\r\n",
      "          RX packets:500511 errors:0 dropped:0 overruns:0 frame:0\r\n",
      "          TX packets:159239 errors:0 dropped:0 overruns:0 carrier:0\r\n",
      "          collisions:0 txqueuelen:0 \r\n",
      "          RX bytes:629642257 (629.6 MB)  TX bytes:154708493 (154.7 MB)\r\n",
      "\r\n",
      "lo        Link encap:Local Loopback  \r\n",
      "          inet addr:127.0.0.1  Mask:255.0.0.0\r\n",
      "          inet6 addr: ::1/128 Scope:Host\r\n",
      "          UP LOOPBACK RUNNING  MTU:65536  Metric:1\r\n",
      "          RX packets:30070 errors:0 dropped:0 overruns:0 frame:0\r\n",
      "          TX packets:30070 errors:0 dropped:0 overruns:0 carrier:0\r\n",
      "          collisions:0 txqueuelen:0 \r\n",
      "          RX bytes:120256866 (120.2 MB)  TX bytes:120256866 (120.2 MB)\r\n",
      "\r\n"
     ]
    }
   ],
   "source": [
    "!ifconfig"
   ]
  },
  {
   "cell_type": "markdown",
   "metadata": {},
   "source": [
    "## Magic!\n",
    "In IPython Notebook, there is a nice feature called ___magic___.  Magic is a group of commands to execute some usuful functions just like system commands.\n",
    "\n",
    "### Two types of Magic\n",
    "* __Line magics__: Prepended by one __%__ character, only to the end of the current line.\n",
    "* __Cell magics__: Start with  __%%__ and applied to the entire cell\n",
    "\n",
    "Here is the list of handy magics:"
   ]
  },
  {
   "cell_type": "markdown",
   "metadata": {},
   "source": [
    "### Simple performance test with _%timeit_"
   ]
  },
  {
   "cell_type": "code",
   "execution_count": 8,
   "metadata": {
    "collapsed": false
   },
   "outputs": [
    {
     "name": "stdout",
     "output_type": "stream",
     "text": [
      "10 loops, best of 3: 39.2 ms per loop\n"
     ]
    }
   ],
   "source": [
    "# Import NetworkX library, which is already installed in your Docker container\n",
    "import networkx as nx\n",
    "\n",
    "# Create a ranom graph with 100 nodes using Barabashi-Albert Model ()\n",
    "ba=nx.barabasi_albert_graph(100,5)\n",
    "\n",
    "# Check the performance of a NetworkX function (calculate betweenness centrality) by running 10 times\n",
    "%timeit -n 10 nx.betweenness_centrality(ba)"
   ]
  },
  {
   "cell_type": "code",
   "execution_count": 9,
   "metadata": {
    "collapsed": false
   },
   "outputs": [
    {
     "name": "stdout",
     "output_type": "stream",
     "text": [
      "10 loops, best of 3: 20.9 ms per loop\n"
     ]
    }
   ],
   "source": [
    "%%timeit -n 10\n",
    "\n",
    "# Or, check performance of the entire cell\n",
    "ws = nx.watts_strogatz_graph(100,3,0.1)\n",
    "btw = nx.betweenness_centrality(ws)"
   ]
  },
  {
   "cell_type": "markdown",
   "metadata": {},
   "source": [
    "### Create file manually with _%%writefile_"
   ]
  },
  {
   "cell_type": "code",
   "execution_count": 10,
   "metadata": {
    "collapsed": false
   },
   "outputs": [
    {
     "name": "stdout",
     "output_type": "stream",
     "text": [
      "Overwriting data/small_network.sif\n"
     ]
    }
   ],
   "source": [
    "%%writefile data/small_network.sif\n",
    "node1 is_a node2\n",
    "node2 child_of node3\n",
    "node3 child_of node1"
   ]
  },
  {
   "cell_type": "code",
   "execution_count": 11,
   "metadata": {
    "collapsed": false
   },
   "outputs": [
    {
     "name": "stdout",
     "output_type": "stream",
     "text": [
      "node1 is_a node2\r\n",
      "node2 child_of node3\r\n",
      "node3 child_of node1"
     ]
    }
   ],
   "source": [
    "!cat data/small_network.sif"
   ]
  },
  {
   "cell_type": "markdown",
   "metadata": {},
   "source": [
    "### Execute under other interpreters"
   ]
  },
  {
   "cell_type": "code",
   "execution_count": 12,
   "metadata": {
    "collapsed": false
   },
   "outputs": [
    {
     "name": "stdout",
     "output_type": "stream",
     "text": [
      "Env var 1\n"
     ]
    }
   ],
   "source": [
    "%%bash\n",
    "export FOO='Env var 1'\n",
    "echo $FOO"
   ]
  },
  {
   "cell_type": "code",
   "execution_count": 13,
   "metadata": {
    "collapsed": false
   },
   "outputs": [
    {
     "data": {
      "application/javascript": [
       "var foo = function(a) {\n",
       "    return a+1;\n",
       "};\n",
       "\n",
       "console.log(foo(2));"
      ],
      "text/plain": [
       "<IPython.core.display.Javascript object>"
      ]
     },
     "metadata": {},
     "output_type": "display_data"
    }
   ],
   "source": [
    "%%javascript\n",
    "var foo = function(a) {\n",
    "    return a+1;\n",
    "};\n",
    "\n",
    "console.log(foo(2));"
   ]
  },
  {
   "cell_type": "markdown",
   "metadata": {},
   "source": [
    "## Continue to [Lesson 1: Introduction to cyREST](Lesson_1_Introduction_to_cyREST.ipynb)"
   ]
  }
 ],
 "metadata": {
  "kernelspec": {
   "display_name": "Python 3",
   "language": "python",
   "name": "python3"
  },
  "language_info": {
   "codemirror_mode": {
    "name": "ipython",
    "version": 3
   },
   "file_extension": ".py",
   "mimetype": "text/x-python",
   "name": "python",
   "nbconvert_exporter": "python",
   "pygments_lexer": "ipython3",
   "version": "3.4.0"
  }
 },
 "nbformat": 4,
 "nbformat_minor": 0
}
