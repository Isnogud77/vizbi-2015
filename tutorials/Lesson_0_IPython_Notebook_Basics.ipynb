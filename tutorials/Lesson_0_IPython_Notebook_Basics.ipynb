{
 "cells": [
  {
   "cell_type": "markdown",
   "metadata": {},
   "source": [
    "# VIZBI Tutorial Session\n",
    "### Part 2: Cytoscape, IPython, Docker, and reproducible network data visualization workflows\n",
    "\n",
    "Tuesday, 3/24/2015\n",
    "\n",
    "\n",
    "### Lesson 0: Introduction to IPython Notebook\n",
    "\n",
    "by [Keiichiro Ono](http://keiono.github.io/)\n",
    "\n",
    "----\n",
    "\n",
    "![](http://ipython.org/_static/IPy_header.png)\n",
    "\n",
    "IPython Notebook is a simple tool to run your code in human-frienfly documents (Notebooks), and you can boost your productivity by learning some basic commands.\n",
    "\n",
    "### Keyboard Shortcuts\n",
    "There are many keyboard shortcuts, but for now, you just need to learn the following:\n",
    "\n",
    "* __Shift-Enter__ - Run cell\n",
    "* __Ctrl-Enter__ - Run cell in-place\n",
    "* __Alt-Enter__ - Run cell, insert below\n",
    "\n",
    "* __Esc and Enter__ - Command mode and edit mode\n",
    "\n",
    "#### Basic Commands in _Command Mode_\n",
    "\n",
    "* x - cut cell\n",
    "* v - paste cell below\n",
    "* SHIFT + v - paste cell above\n",
    "* dd - dlete cell\n",
    "\n",
    "Complete list of shortcuts is available under ___Help___ menu:\n",
    "\n",
    "![](http://cl.ly/aJfd/ipython_help.png)\n",
    "\n",
    "OK, let's start!"
   ]
  },
  {
   "cell_type": "code",
   "execution_count": 86,
   "metadata": {
    "collapsed": false,
    "scrolled": true
   },
   "outputs": [
    {
     "name": "stdout",
     "output_type": "stream",
     "text": [
      "Hello IPython World!\n"
     ]
    }
   ],
   "source": [
    "print('Hello IPython World!') "
   ]
  },
  {
   "cell_type": "code",
   "execution_count": 87,
   "metadata": {
    "collapsed": false
   },
   "outputs": [],
   "source": [
    "result1 = 1+1\n",
    "result2 = 2*3"
   ]
  },
  {
   "cell_type": "code",
   "execution_count": 88,
   "metadata": {
    "collapsed": false
   },
   "outputs": [
    {
     "data": {
      "text/plain": [
       "2"
      ]
     },
     "execution_count": 88,
     "metadata": {},
     "output_type": "execute_result"
    }
   ],
   "source": [
    "result2\n",
    "result1"
   ]
  },
  {
   "cell_type": "code",
   "execution_count": 89,
   "metadata": {
    "collapsed": false
   },
   "outputs": [
    {
     "name": "stdout",
     "output_type": "stream",
     "text": [
      "2nd = 6\n",
      "1st = 2\n"
     ]
    }
   ],
   "source": [
    "print('2nd = ' + str(result2))\n",
    "print('1st = ' + str(result1))"
   ]
  },
  {
   "cell_type": "code",
   "execution_count": 90,
   "metadata": {
    "collapsed": false
   },
   "outputs": [
    {
     "name": "stdout",
     "output_type": "stream",
     "text": [
      "2nd = 6\n",
      "1st = 2\n"
     ]
    }
   ],
   "source": [
    "print('2nd = ' + str(result2))\n",
    "print('1st = ' + str(result1))"
   ]
  },
  {
   "cell_type": "markdown",
   "metadata": {},
   "source": [
    "## Run System Command\n",
    "You can run system commands by adding __!__ at the beggining.\n",
    "\n",
    "Remember: you are running this notebook in Linux container.  You cannot use Windows/Mac commands even if you are using those machines!"
   ]
  },
  {
   "cell_type": "code",
   "execution_count": 91,
   "metadata": {
    "collapsed": false
   },
   "outputs": [
    {
     "name": "stdout",
     "output_type": "stream",
     "text": [
      "total 1.6M\r\n",
      "drwxr-xr-x 1 1000 staff  374 Mar 20 21:18 .\r\n",
      "drwxr-xr-x 1 1000 staff  340 Mar 20 07:29 ..\r\n",
      "drwxr-xr-x 1 1000 staff  102 Mar 20 03:56 answers\r\n",
      "drwxr-xr-x 1 1000 staff  204 Mar 20 19:05 data\r\n",
      "-rw-r--r-- 1 1000 staff 8.9K Mar 20 07:07 Drugbank.ipynb\r\n",
      "-rw-r--r-- 1 1000 staff  11K Mar 20 21:02 .DS_Store\r\n",
      "-rw-r--r-- 1 1000 staff 571K Mar 20 04:30 Graph_Libraries.ipynb\r\n",
      "-rw-r--r-- 1 1000 staff 799K Mar 20 03:56 GraphToolDemo.ipynb\r\n",
      "-rw-r--r-- 1 1000 staff 176K Mar 20 06:12 Introduction_to_cyREST.ipynb\r\n",
      "drwxr-xr-x 1 1000 staff  204 Mar 20 18:24 .ipynb_checkpoints\r\n",
      "-rw-r--r-- 1 1000 staff 9.3K Mar 20 21:18 Lesson_0_IPython_Notebook_Basics.ipynb\r\n"
     ]
    }
   ],
   "source": [
    "!ls -alh"
   ]
  },
  {
   "cell_type": "code",
   "execution_count": 92,
   "metadata": {
    "collapsed": false
   },
   "outputs": [
    {
     "name": "stdout",
     "output_type": "stream",
     "text": [
      "eth0      Link encap:Ethernet  HWaddr 02:42:ac:11:00:08  \r\n",
      "          inet addr:172.17.0.8  Bcast:0.0.0.0  Mask:255.255.0.0\r\n",
      "          inet6 addr: fe80::42:acff:fe11:8/64 Scope:Link\r\n",
      "          UP BROADCAST RUNNING  MTU:1500  Metric:1\r\n",
      "          RX packets:71567 errors:0 dropped:0 overruns:0 frame:0\r\n",
      "          TX packets:40642 errors:0 dropped:0 overruns:0 carrier:0\r\n",
      "          collisions:0 txqueuelen:0 \r\n",
      "          RX bytes:51347704 (51.3 MB)  TX bytes:8128296 (8.1 MB)\r\n",
      "\r\n",
      "lo        Link encap:Local Loopback  \r\n",
      "          inet addr:127.0.0.1  Mask:255.0.0.0\r\n",
      "          inet6 addr: ::1/128 Scope:Host\r\n",
      "          UP LOOPBACK RUNNING  MTU:65536  Metric:1\r\n",
      "          RX packets:1930 errors:0 dropped:0 overruns:0 frame:0\r\n",
      "          TX packets:1930 errors:0 dropped:0 overruns:0 carrier:0\r\n",
      "          collisions:0 txqueuelen:0 \r\n",
      "          RX bytes:2153804 (2.1 MB)  TX bytes:2153804 (2.1 MB)\r\n",
      "\r\n"
     ]
    }
   ],
   "source": [
    "!ifconfig"
   ]
  },
  {
   "cell_type": "markdown",
   "metadata": {},
   "source": [
    "## Magic!\n",
    "In IPython Notebook, there is a nice feature called ___magic___.  Magic is a group of commands to execute some usuful functions just like system commands.\n",
    "\n",
    "### Two types of Magic\n",
    "* __Line magics__: Prepended by one __%__ character, only to the end of the current line.\n",
    "* __Cell magics__: Start with  __%%__ and applied to the entire cell\n",
    "\n",
    "Here is the list of handy magics:"
   ]
  },
  {
   "cell_type": "markdown",
   "metadata": {},
   "source": [
    "### Simple performance test with _%timeit_"
   ]
  },
  {
   "cell_type": "code",
   "execution_count": 93,
   "metadata": {
    "collapsed": false
   },
   "outputs": [
    {
     "name": "stdout",
     "output_type": "stream",
     "text": [
      "10 loops, best of 3: 38.6 ms per loop\n"
     ]
    }
   ],
   "source": [
    "# Import NetworkX library, which is already installed in your Docker container\n",
    "import networkx as nx\n",
    "\n",
    "# Create a ranom graph with 100 nodes using Barabashi-Albert Model ()\n",
    "ba=nx.barabasi_albert_graph(100,5)\n",
    "\n",
    "# Check the performance of a NetworkX function (calculate betweenness centrality) by running 10 times\n",
    "%timeit -n 10 nx.betweenness_centrality(ba)"
   ]
  },
  {
   "cell_type": "code",
   "execution_count": 94,
   "metadata": {
    "collapsed": false
   },
   "outputs": [
    {
     "name": "stdout",
     "output_type": "stream",
     "text": [
      "10 loops, best of 3: 18.1 ms per loop\n"
     ]
    }
   ],
   "source": [
    "%%timeit -n 10\n",
    "\n",
    "# Or, check performance of the entire cell\n",
    "ws = nx.watts_strogatz_graph(100,3,0.1)\n",
    "btw = nx.betweenness_centrality(ws)"
   ]
  },
  {
   "cell_type": "markdown",
   "metadata": {},
   "source": [
    "### Create file manually with _%%writefile_"
   ]
  },
  {
   "cell_type": "code",
   "execution_count": 95,
   "metadata": {
    "collapsed": false
   },
   "outputs": [
    {
     "name": "stdout",
     "output_type": "stream",
     "text": [
      "Overwriting data/small_network.sif\n"
     ]
    }
   ],
   "source": [
    "%%writefile data/small_network.sif\n",
    "node1 is_a node2\n",
    "node2 child_of node3\n",
    "node3 child_of node1"
   ]
  },
  {
   "cell_type": "code",
   "execution_count": 96,
   "metadata": {
    "collapsed": false
   },
   "outputs": [
    {
     "name": "stdout",
     "output_type": "stream",
     "text": [
      "node1 is_a node2\r\n",
      "node2 child_of node3\r\n",
      "node3 child_of node1"
     ]
    }
   ],
   "source": [
    "!cat data/small_network.sif"
   ]
  },
  {
   "cell_type": "markdown",
   "metadata": {},
   "source": [
    "### Execute under other interpreters"
   ]
  },
  {
   "cell_type": "code",
   "execution_count": 97,
   "metadata": {
    "collapsed": false
   },
   "outputs": [
    {
     "name": "stdout",
     "output_type": "stream",
     "text": [
      "Env var 1\n"
     ]
    }
   ],
   "source": [
    "%%bash\n",
    "export FOO='Env var 1'\n",
    "echo $FOO"
   ]
  },
  {
   "cell_type": "code",
   "execution_count": 99,
   "metadata": {
    "collapsed": false
   },
   "outputs": [
    {
     "data": {
      "application/javascript": [
       "var foo = function(a) {\n",
       "    return a+1;\n",
       "};\n",
       "\n",
       "console.log(foo(2));"
      ],
      "text/plain": [
       "<IPython.core.display.Javascript object>"
      ]
     },
     "metadata": {},
     "output_type": "display_data"
    }
   ],
   "source": [
    "%%javascript\n",
    "var foo = function(a) {\n",
    "    return a+1;\n",
    "};\n",
    "\n",
    "console.log(foo(2));"
   ]
  },
  {
   "cell_type": "markdown",
   "metadata": {},
   "source": [
    "## Continue to [Lesson 1: Introduction to cyREST](Lesson_1_Introduction_to_cyREST.ipynb)"
   ]
  }
 ],
 "metadata": {
  "kernelspec": {
   "display_name": "Python 3",
   "language": "python",
   "name": "python3"
  },
  "language_info": {
   "codemirror_mode": {
    "name": "ipython",
    "version": 3
   },
   "file_extension": ".py",
   "mimetype": "text/x-python",
   "name": "python",
   "nbconvert_exporter": "python",
   "pygments_lexer": "ipython3",
   "version": "3.4.0"
  }
 },
 "nbformat": 4,
 "nbformat_minor": 0
}
