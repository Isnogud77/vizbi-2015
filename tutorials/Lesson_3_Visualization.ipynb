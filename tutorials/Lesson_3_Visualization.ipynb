{
 "cells": [
  {
   "cell_type": "markdown",
   "metadata": {},
   "source": [
    "# VIZBI Tutorial Session\n",
    "### Part 2: Cytoscape, IPython, Docker, and reproducible network data visualization workflows\n",
    "\n",
    "Tuesday, 3/24/2015\n",
    "\n",
    "\n",
    "### Lesson 3: Reproducible Visualization Workflow\n",
    "\n",
    "by [Keiichiro Ono](http://keiono.github.io/)\n",
    "\n",
    "----\n",
    "\n",
    "![](http://cl.ly/aKS1/tca1.png)\n",
    "\n",
    "\n",
    "## Background \n",
    "You can visualize network data set using easy-to-use Cytoscape GUI and you can save the final result as a ___session file___.  But if you need to create similar visualizations, you need to repeat the manual (point-and-click) operations again.  This will be more and more time consuming process as your data sets grows.  Good news is, you can avoid it by writing your visualization workflow as Notebooks!"
   ]
  },
  {
   "cell_type": "code",
   "execution_count": 2,
   "metadata": {
    "collapsed": false
   },
   "outputs": [
    {
     "ename": "ConnectionError",
     "evalue": "HTTPConnectionPool(host='10.0.1.6', port=1234): Max retries exceeded with url: /v1/session (Caused by <class 'OSError'>: [Errno 101] Network is unreachable)",
     "output_type": "error",
     "traceback": [
      "\u001b[1;31m---------------------------------------------------------------------------\u001b[0m",
      "\u001b[1;31mOSError\u001b[0m                                   Traceback (most recent call last)",
      "\u001b[1;32m/usr/lib/python3/dist-packages/urllib3/connectionpool.py\u001b[0m in \u001b[0;36murlopen\u001b[1;34m(self, method, url, body, headers, retries, redirect, assert_same_host, timeout, pool_timeout, release_conn, **response_kw)\u001b[0m\n\u001b[0;32m    556\u001b[0m                                                   \u001b[0mtimeout\u001b[0m\u001b[1;33m=\u001b[0m\u001b[0mtimeout\u001b[0m\u001b[1;33m,\u001b[0m\u001b[1;33m\u001b[0m\u001b[0m\n\u001b[1;32m--> 557\u001b[1;33m                                                   body=body, headers=headers)\n\u001b[0m\u001b[0;32m    558\u001b[0m \u001b[1;33m\u001b[0m\u001b[0m\n",
      "\u001b[1;32m/usr/lib/python3/dist-packages/urllib3/connectionpool.py\u001b[0m in \u001b[0;36m_make_request\u001b[1;34m(self, conn, method, url, timeout, **httplib_request_kw)\u001b[0m\n\u001b[0;32m    381\u001b[0m             \u001b[1;31m# request.py. It also calls makefile (recv) on the socket\u001b[0m\u001b[1;33m\u001b[0m\u001b[1;33m\u001b[0m\u001b[0m\n\u001b[1;32m--> 382\u001b[1;33m             \u001b[0mconn\u001b[0m\u001b[1;33m.\u001b[0m\u001b[0mrequest\u001b[0m\u001b[1;33m(\u001b[0m\u001b[0mmethod\u001b[0m\u001b[1;33m,\u001b[0m \u001b[0murl\u001b[0m\u001b[1;33m,\u001b[0m \u001b[1;33m**\u001b[0m\u001b[0mhttplib_request_kw\u001b[0m\u001b[1;33m)\u001b[0m\u001b[1;33m\u001b[0m\u001b[0m\n\u001b[0m\u001b[0;32m    383\u001b[0m         \u001b[1;32mexcept\u001b[0m \u001b[0mSocketTimeout\u001b[0m\u001b[1;33m:\u001b[0m\u001b[1;33m\u001b[0m\u001b[0m\n",
      "\u001b[1;32m/usr/lib/python3.4/http/client.py\u001b[0m in \u001b[0;36mrequest\u001b[1;34m(self, method, url, body, headers)\u001b[0m\n\u001b[0;32m   1064\u001b[0m         \u001b[1;34m\"\"\"Send a complete request to the server.\"\"\"\u001b[0m\u001b[1;33m\u001b[0m\u001b[0m\n\u001b[1;32m-> 1065\u001b[1;33m         \u001b[0mself\u001b[0m\u001b[1;33m.\u001b[0m\u001b[0m_send_request\u001b[0m\u001b[1;33m(\u001b[0m\u001b[0mmethod\u001b[0m\u001b[1;33m,\u001b[0m \u001b[0murl\u001b[0m\u001b[1;33m,\u001b[0m \u001b[0mbody\u001b[0m\u001b[1;33m,\u001b[0m \u001b[0mheaders\u001b[0m\u001b[1;33m)\u001b[0m\u001b[1;33m\u001b[0m\u001b[0m\n\u001b[0m\u001b[0;32m   1066\u001b[0m \u001b[1;33m\u001b[0m\u001b[0m\n",
      "\u001b[1;32m/usr/lib/python3.4/http/client.py\u001b[0m in \u001b[0;36m_send_request\u001b[1;34m(self, method, url, body, headers)\u001b[0m\n\u001b[0;32m   1102\u001b[0m             \u001b[0mbody\u001b[0m \u001b[1;33m=\u001b[0m \u001b[0mbody\u001b[0m\u001b[1;33m.\u001b[0m\u001b[0mencode\u001b[0m\u001b[1;33m(\u001b[0m\u001b[1;34m'iso-8859-1'\u001b[0m\u001b[1;33m)\u001b[0m\u001b[1;33m\u001b[0m\u001b[0m\n\u001b[1;32m-> 1103\u001b[1;33m         \u001b[0mself\u001b[0m\u001b[1;33m.\u001b[0m\u001b[0mendheaders\u001b[0m\u001b[1;33m(\u001b[0m\u001b[0mbody\u001b[0m\u001b[1;33m)\u001b[0m\u001b[1;33m\u001b[0m\u001b[0m\n\u001b[0m\u001b[0;32m   1104\u001b[0m \u001b[1;33m\u001b[0m\u001b[0m\n",
      "\u001b[1;32m/usr/lib/python3.4/http/client.py\u001b[0m in \u001b[0;36mendheaders\u001b[1;34m(self, message_body)\u001b[0m\n\u001b[0;32m   1060\u001b[0m             \u001b[1;32mraise\u001b[0m \u001b[0mCannotSendHeader\u001b[0m\u001b[1;33m(\u001b[0m\u001b[1;33m)\u001b[0m\u001b[1;33m\u001b[0m\u001b[0m\n\u001b[1;32m-> 1061\u001b[1;33m         \u001b[0mself\u001b[0m\u001b[1;33m.\u001b[0m\u001b[0m_send_output\u001b[0m\u001b[1;33m(\u001b[0m\u001b[0mmessage_body\u001b[0m\u001b[1;33m)\u001b[0m\u001b[1;33m\u001b[0m\u001b[0m\n\u001b[0m\u001b[0;32m   1062\u001b[0m \u001b[1;33m\u001b[0m\u001b[0m\n",
      "\u001b[1;32m/usr/lib/python3.4/http/client.py\u001b[0m in \u001b[0;36m_send_output\u001b[1;34m(self, message_body)\u001b[0m\n\u001b[0;32m    905\u001b[0m             \u001b[0mmessage_body\u001b[0m \u001b[1;33m=\u001b[0m \u001b[1;32mNone\u001b[0m\u001b[1;33m\u001b[0m\u001b[0m\n\u001b[1;32m--> 906\u001b[1;33m         \u001b[0mself\u001b[0m\u001b[1;33m.\u001b[0m\u001b[0msend\u001b[0m\u001b[1;33m(\u001b[0m\u001b[0mmsg\u001b[0m\u001b[1;33m)\u001b[0m\u001b[1;33m\u001b[0m\u001b[0m\n\u001b[0m\u001b[0;32m    907\u001b[0m         \u001b[1;32mif\u001b[0m \u001b[0mmessage_body\u001b[0m \u001b[1;32mis\u001b[0m \u001b[1;32mnot\u001b[0m \u001b[1;32mNone\u001b[0m\u001b[1;33m:\u001b[0m\u001b[1;33m\u001b[0m\u001b[0m\n",
      "\u001b[1;32m/usr/lib/python3.4/http/client.py\u001b[0m in \u001b[0;36msend\u001b[1;34m(self, data)\u001b[0m\n\u001b[0;32m    840\u001b[0m             \u001b[1;32mif\u001b[0m \u001b[0mself\u001b[0m\u001b[1;33m.\u001b[0m\u001b[0mauto_open\u001b[0m\u001b[1;33m:\u001b[0m\u001b[1;33m\u001b[0m\u001b[0m\n\u001b[1;32m--> 841\u001b[1;33m                 \u001b[0mself\u001b[0m\u001b[1;33m.\u001b[0m\u001b[0mconnect\u001b[0m\u001b[1;33m(\u001b[0m\u001b[1;33m)\u001b[0m\u001b[1;33m\u001b[0m\u001b[0m\n\u001b[0m\u001b[0;32m    842\u001b[0m             \u001b[1;32melse\u001b[0m\u001b[1;33m:\u001b[0m\u001b[1;33m\u001b[0m\u001b[0m\n",
      "\u001b[1;32m/usr/lib/python3.4/http/client.py\u001b[0m in \u001b[0;36mconnect\u001b[1;34m(self)\u001b[0m\n\u001b[0;32m    818\u001b[0m         self.sock = socket.create_connection((self.host,self.port),\n\u001b[1;32m--> 819\u001b[1;33m                                              self.timeout, self.source_address)\n\u001b[0m\u001b[0;32m    820\u001b[0m         \u001b[1;32mif\u001b[0m \u001b[0mself\u001b[0m\u001b[1;33m.\u001b[0m\u001b[0m_tunnel_host\u001b[0m\u001b[1;33m:\u001b[0m\u001b[1;33m\u001b[0m\u001b[0m\n",
      "\u001b[1;32m/usr/lib/python3.4/socket.py\u001b[0m in \u001b[0;36mcreate_connection\u001b[1;34m(address, timeout, source_address)\u001b[0m\n\u001b[0;32m    508\u001b[0m     \u001b[1;32mif\u001b[0m \u001b[0merr\u001b[0m \u001b[1;32mis\u001b[0m \u001b[1;32mnot\u001b[0m \u001b[1;32mNone\u001b[0m\u001b[1;33m:\u001b[0m\u001b[1;33m\u001b[0m\u001b[0m\n\u001b[1;32m--> 509\u001b[1;33m         \u001b[1;32mraise\u001b[0m \u001b[0merr\u001b[0m\u001b[1;33m\u001b[0m\u001b[0m\n\u001b[0m\u001b[0;32m    510\u001b[0m     \u001b[1;32melse\u001b[0m\u001b[1;33m:\u001b[0m\u001b[1;33m\u001b[0m\u001b[0m\n",
      "\u001b[1;32m/usr/lib/python3.4/socket.py\u001b[0m in \u001b[0;36mcreate_connection\u001b[1;34m(address, timeout, source_address)\u001b[0m\n\u001b[0;32m    499\u001b[0m                 \u001b[0msock\u001b[0m\u001b[1;33m.\u001b[0m\u001b[0mbind\u001b[0m\u001b[1;33m(\u001b[0m\u001b[0msource_address\u001b[0m\u001b[1;33m)\u001b[0m\u001b[1;33m\u001b[0m\u001b[0m\n\u001b[1;32m--> 500\u001b[1;33m             \u001b[0msock\u001b[0m\u001b[1;33m.\u001b[0m\u001b[0mconnect\u001b[0m\u001b[1;33m(\u001b[0m\u001b[0msa\u001b[0m\u001b[1;33m)\u001b[0m\u001b[1;33m\u001b[0m\u001b[0m\n\u001b[0m\u001b[0;32m    501\u001b[0m             \u001b[1;32mreturn\u001b[0m \u001b[0msock\u001b[0m\u001b[1;33m\u001b[0m\u001b[0m\n",
      "\u001b[1;31mOSError\u001b[0m: [Errno 101] Network is unreachable",
      "\nDuring handling of the above exception, another exception occurred:\n",
      "\u001b[1;31mMaxRetryError\u001b[0m                             Traceback (most recent call last)",
      "\u001b[1;32m/usr/lib/python3/dist-packages/requests/adapters.py\u001b[0m in \u001b[0;36msend\u001b[1;34m(self, request, stream, timeout, verify, cert, proxies)\u001b[0m\n\u001b[0;32m    329\u001b[0m                     \u001b[0mretries\u001b[0m\u001b[1;33m=\u001b[0m\u001b[0mself\u001b[0m\u001b[1;33m.\u001b[0m\u001b[0mmax_retries\u001b[0m\u001b[1;33m,\u001b[0m\u001b[1;33m\u001b[0m\u001b[0m\n\u001b[1;32m--> 330\u001b[1;33m                     \u001b[0mtimeout\u001b[0m\u001b[1;33m=\u001b[0m\u001b[0mtimeout\u001b[0m\u001b[1;33m\u001b[0m\u001b[0m\n\u001b[0m\u001b[0;32m    331\u001b[0m                 )\n",
      "\u001b[1;32m/usr/lib/python3/dist-packages/urllib3/connectionpool.py\u001b[0m in \u001b[0;36murlopen\u001b[1;34m(self, method, url, body, headers, retries, redirect, assert_same_host, timeout, pool_timeout, release_conn, **response_kw)\u001b[0m\n\u001b[0;32m    606\u001b[0m             \u001b[1;32mif\u001b[0m \u001b[0mretries\u001b[0m \u001b[1;33m==\u001b[0m \u001b[1;36m0\u001b[0m\u001b[1;33m:\u001b[0m\u001b[1;33m\u001b[0m\u001b[0m\n\u001b[1;32m--> 607\u001b[1;33m                 \u001b[1;32mraise\u001b[0m \u001b[0mMaxRetryError\u001b[0m\u001b[1;33m(\u001b[0m\u001b[0mself\u001b[0m\u001b[1;33m,\u001b[0m \u001b[0murl\u001b[0m\u001b[1;33m,\u001b[0m \u001b[0me\u001b[0m\u001b[1;33m)\u001b[0m\u001b[1;33m\u001b[0m\u001b[0m\n\u001b[0m\u001b[0;32m    608\u001b[0m \u001b[1;33m\u001b[0m\u001b[0m\n",
      "\u001b[1;31mMaxRetryError\u001b[0m: HTTPConnectionPool(host='10.0.1.6', port=1234): Max retries exceeded with url: /v1/session (Caused by <class 'OSError'>: [Errno 101] Network is unreachable)",
      "\nDuring handling of the above exception, another exception occurred:\n",
      "\u001b[1;31mConnectionError\u001b[0m                           Traceback (most recent call last)",
      "\u001b[1;32m<ipython-input-2-a2ed197a52fe>\u001b[0m in \u001b[0;36m<module>\u001b[1;34m()\u001b[0m\n\u001b[0;32m     18\u001b[0m \u001b[1;33m\u001b[0m\u001b[0m\n\u001b[0;32m     19\u001b[0m \u001b[1;31m# Start from a clean slate!\u001b[0m\u001b[1;33m\u001b[0m\u001b[1;33m\u001b[0m\u001b[0m\n\u001b[1;32m---> 20\u001b[1;33m \u001b[0mrequests\u001b[0m\u001b[1;33m.\u001b[0m\u001b[0mdelete\u001b[0m\u001b[1;33m(\u001b[0m\u001b[0mBASE\u001b[0m \u001b[1;33m+\u001b[0m \u001b[1;34m'session'\u001b[0m\u001b[1;33m)\u001b[0m\u001b[1;33m\u001b[0m\u001b[0m\n\u001b[0m",
      "\u001b[1;32m/usr/lib/python3/dist-packages/requests/api.py\u001b[0m in \u001b[0;36mdelete\u001b[1;34m(url, **kwargs)\u001b[0m\n\u001b[0;32m    118\u001b[0m     \"\"\"\n\u001b[0;32m    119\u001b[0m \u001b[1;33m\u001b[0m\u001b[0m\n\u001b[1;32m--> 120\u001b[1;33m     \u001b[1;32mreturn\u001b[0m \u001b[0mrequest\u001b[0m\u001b[1;33m(\u001b[0m\u001b[1;34m'delete'\u001b[0m\u001b[1;33m,\u001b[0m \u001b[0murl\u001b[0m\u001b[1;33m,\u001b[0m \u001b[1;33m**\u001b[0m\u001b[0mkwargs\u001b[0m\u001b[1;33m)\u001b[0m\u001b[1;33m\u001b[0m\u001b[0m\n\u001b[0m",
      "\u001b[1;32m/usr/lib/python3/dist-packages/requests/api.py\u001b[0m in \u001b[0;36mrequest\u001b[1;34m(method, url, **kwargs)\u001b[0m\n\u001b[0;32m     42\u001b[0m \u001b[1;33m\u001b[0m\u001b[0m\n\u001b[0;32m     43\u001b[0m     \u001b[0msession\u001b[0m \u001b[1;33m=\u001b[0m \u001b[0msessions\u001b[0m\u001b[1;33m.\u001b[0m\u001b[0mSession\u001b[0m\u001b[1;33m(\u001b[0m\u001b[1;33m)\u001b[0m\u001b[1;33m\u001b[0m\u001b[0m\n\u001b[1;32m---> 44\u001b[1;33m     \u001b[1;32mreturn\u001b[0m \u001b[0msession\u001b[0m\u001b[1;33m.\u001b[0m\u001b[0mrequest\u001b[0m\u001b[1;33m(\u001b[0m\u001b[0mmethod\u001b[0m\u001b[1;33m=\u001b[0m\u001b[0mmethod\u001b[0m\u001b[1;33m,\u001b[0m \u001b[0murl\u001b[0m\u001b[1;33m=\u001b[0m\u001b[0murl\u001b[0m\u001b[1;33m,\u001b[0m \u001b[1;33m**\u001b[0m\u001b[0mkwargs\u001b[0m\u001b[1;33m)\u001b[0m\u001b[1;33m\u001b[0m\u001b[0m\n\u001b[0m\u001b[0;32m     45\u001b[0m \u001b[1;33m\u001b[0m\u001b[0m\n\u001b[0;32m     46\u001b[0m \u001b[1;33m\u001b[0m\u001b[0m\n",
      "\u001b[1;32m/usr/lib/python3/dist-packages/requests/sessions.py\u001b[0m in \u001b[0;36mrequest\u001b[1;34m(self, method, url, params, data, headers, cookies, files, auth, timeout, allow_redirects, proxies, hooks, stream, verify, cert)\u001b[0m\n\u001b[0;32m    453\u001b[0m             \u001b[1;34m'allow_redirects'\u001b[0m\u001b[1;33m:\u001b[0m \u001b[0mallow_redirects\u001b[0m\u001b[1;33m,\u001b[0m\u001b[1;33m\u001b[0m\u001b[0m\n\u001b[0;32m    454\u001b[0m         }\n\u001b[1;32m--> 455\u001b[1;33m         \u001b[0mresp\u001b[0m \u001b[1;33m=\u001b[0m \u001b[0mself\u001b[0m\u001b[1;33m.\u001b[0m\u001b[0msend\u001b[0m\u001b[1;33m(\u001b[0m\u001b[0mprep\u001b[0m\u001b[1;33m,\u001b[0m \u001b[1;33m**\u001b[0m\u001b[0msend_kwargs\u001b[0m\u001b[1;33m)\u001b[0m\u001b[1;33m\u001b[0m\u001b[0m\n\u001b[0m\u001b[0;32m    456\u001b[0m \u001b[1;33m\u001b[0m\u001b[0m\n\u001b[0;32m    457\u001b[0m         \u001b[1;32mreturn\u001b[0m \u001b[0mresp\u001b[0m\u001b[1;33m\u001b[0m\u001b[0m\n",
      "\u001b[1;32m/usr/lib/python3/dist-packages/requests/sessions.py\u001b[0m in \u001b[0;36msend\u001b[1;34m(self, request, **kwargs)\u001b[0m\n\u001b[0;32m    556\u001b[0m         \u001b[0mstart\u001b[0m \u001b[1;33m=\u001b[0m \u001b[0mdatetime\u001b[0m\u001b[1;33m.\u001b[0m\u001b[0mutcnow\u001b[0m\u001b[1;33m(\u001b[0m\u001b[1;33m)\u001b[0m\u001b[1;33m\u001b[0m\u001b[0m\n\u001b[0;32m    557\u001b[0m         \u001b[1;31m# Send the request\u001b[0m\u001b[1;33m\u001b[0m\u001b[1;33m\u001b[0m\u001b[0m\n\u001b[1;32m--> 558\u001b[1;33m         \u001b[0mr\u001b[0m \u001b[1;33m=\u001b[0m \u001b[0madapter\u001b[0m\u001b[1;33m.\u001b[0m\u001b[0msend\u001b[0m\u001b[1;33m(\u001b[0m\u001b[0mrequest\u001b[0m\u001b[1;33m,\u001b[0m \u001b[1;33m**\u001b[0m\u001b[0mkwargs\u001b[0m\u001b[1;33m)\u001b[0m\u001b[1;33m\u001b[0m\u001b[0m\n\u001b[0m\u001b[0;32m    559\u001b[0m         \u001b[1;31m# Total elapsed time of the request (approximately)\u001b[0m\u001b[1;33m\u001b[0m\u001b[1;33m\u001b[0m\u001b[0m\n\u001b[0;32m    560\u001b[0m         \u001b[0mr\u001b[0m\u001b[1;33m.\u001b[0m\u001b[0melapsed\u001b[0m \u001b[1;33m=\u001b[0m \u001b[0mdatetime\u001b[0m\u001b[1;33m.\u001b[0m\u001b[0mutcnow\u001b[0m\u001b[1;33m(\u001b[0m\u001b[1;33m)\u001b[0m \u001b[1;33m-\u001b[0m \u001b[0mstart\u001b[0m\u001b[1;33m\u001b[0m\u001b[0m\n",
      "\u001b[1;32m/usr/lib/python3/dist-packages/requests/adapters.py\u001b[0m in \u001b[0;36msend\u001b[1;34m(self, request, stream, timeout, verify, cert, proxies)\u001b[0m\n\u001b[0;32m    376\u001b[0m \u001b[1;33m\u001b[0m\u001b[0m\n\u001b[0;32m    377\u001b[0m         \u001b[1;32mexcept\u001b[0m \u001b[0mMaxRetryError\u001b[0m \u001b[1;32mas\u001b[0m \u001b[0me\u001b[0m\u001b[1;33m:\u001b[0m\u001b[1;33m\u001b[0m\u001b[0m\n\u001b[1;32m--> 378\u001b[1;33m             \u001b[1;32mraise\u001b[0m \u001b[0mConnectionError\u001b[0m\u001b[1;33m(\u001b[0m\u001b[0me\u001b[0m\u001b[1;33m)\u001b[0m\u001b[1;33m\u001b[0m\u001b[0m\n\u001b[0m\u001b[0;32m    379\u001b[0m \u001b[1;33m\u001b[0m\u001b[0m\n\u001b[0;32m    380\u001b[0m         \u001b[1;32mexcept\u001b[0m \u001b[0m_ProxyError\u001b[0m \u001b[1;32mas\u001b[0m \u001b[0me\u001b[0m\u001b[1;33m:\u001b[0m\u001b[1;33m\u001b[0m\u001b[0m\n",
      "\u001b[1;31mConnectionError\u001b[0m: HTTPConnectionPool(host='10.0.1.6', port=1234): Max retries exceeded with url: /v1/session (Caused by <class 'OSError'>: [Errno 101] Network is unreachable)"
     ]
    }
   ],
   "source": [
    "import requests\n",
    "import json\n",
    "from IPython.display import Image\n",
    "import pandas as pd\n",
    "\n",
    "# Basic Setup\n",
    "PORT_NUMBER = 1234\n",
    "IP = '10.0.1.6'\n",
    "BASE = 'http://' + IP + ':' + str(PORT_NUMBER) + '/v1/'\n",
    "HEADERS = {'Content-Type': 'application/json'}\n",
    "\n",
    "# Utulity to POST object\n",
    "def create(param, dict_data):\n",
    "    return requests.post(BASE + param, data=json.dumps(dict_data), headers=HEADERS)\n",
    "\n",
    "def update(param, dict_data):\n",
    "    return requests.put(BASE + param, data=json.dumps(dict_data), headers=HEADERS)\n",
    "    \n",
    "# Start from a clean slate!\n",
    "requests.delete(BASE + 'session')"
   ]
  },
  {
   "cell_type": "markdown",
   "metadata": {},
   "source": [
    "## Visual Style\n",
    "\n",
    "![](http://cl.ly/aJam/visualstyles.png)\n",
    "\n",
    "To visuaize your data with Cytoscape, you need to understand its data-to-view mapping mechanism called ___Visual Style___.\n",
    "\n",
    "### What is a Visual Style?\n",
    "__Visual Style is a collection of instructions how to map your data to visual properties (or visual variables)__.  To use it to make effective visualizations, you need to understand the following concepts."
   ]
  },
  {
   "cell_type": "code",
   "execution_count": null,
   "metadata": {
    "collapsed": false
   },
   "outputs": [],
   "source": [
    "# Get a list of all available Visual Styles\n",
    "vs_url = BASE + 'styles'\n",
    "res = requests.get(vs_url)\n",
    "style_df = pd.DataFrame(res.json(), columns=['Style Name'])\n",
    "style_df"
   ]
  },
  {
   "cell_type": "markdown",
   "metadata": {},
   "source": [
    "#### Visual Properties\n",
    "Visual Properties, sometimes called [visual variables](http://www.infovis-wiki.net/index.php?title=Visual_Variables) in other applications, are properties of viewable objects, such as color, shape, opacity, size, etc.\n",
    "\n",
    "You can get the complete list of Visual Properties with the following code:"
   ]
  },
  {
   "cell_type": "code",
   "execution_count": null,
   "metadata": {
    "collapsed": false,
    "scrolled": true
   },
   "outputs": [],
   "source": [
    "vps_url = BASE + 'styles/visualproperties'\n",
    "print(vps_url)\n",
    "\n",
    "# Let's make it a bit more human readable\n",
    "res = requests.get(vps_url)\n",
    "vp_df = pd.DataFrame(res.json(), columns=['visualProperty', 'name', 'targetDataType', 'default'])\n",
    "vp_df.tail()"
   ]
  },
  {
   "cell_type": "markdown",
   "metadata": {},
   "source": [
    "##### Discrete Range Values\n",
    "Some of the Visual Properties have set of disrete values.  You can access those by _values_ API:"
   ]
  },
  {
   "cell_type": "code",
   "execution_count": null,
   "metadata": {
    "collapsed": false
   },
   "outputs": [],
   "source": [
    "res = requests.get(vps_url + '/NODE_SHAPE/values')\n",
    "node_shapes = pd.DataFrame(res.json()['values'], columns=['Node Shapes'])\n",
    "node_shapes"
   ]
  },
  {
   "cell_type": "markdown",
   "metadata": {},
   "source": [
    "#### Defaults\n",
    "By default, there is no mapping from your data to Visual Properties.  __If there is no mapping for a Visual Property, default value will be used.__"
   ]
  },
  {
   "cell_type": "code",
   "execution_count": null,
   "metadata": {
    "collapsed": false
   },
   "outputs": [],
   "source": [
    "directed_style_url = BASE + 'styles/default/defaults'\n",
    "print(directed_style_url)\n",
    "\n",
    "res = requests.get(directed_style_url)\n",
    "defaults_df = pd.DataFrame(res.json()['defaults'], columns=['visualProperty', 'value'])\n",
    "defaults_df.head()"
   ]
  },
  {
   "cell_type": "markdown",
   "metadata": {},
   "source": [
    "Let's try with actual network data."
   ]
  },
  {
   "cell_type": "code",
   "execution_count": null,
   "metadata": {
    "collapsed": false
   },
   "outputs": [],
   "source": [
    "# Load a network file\n",
    "f = open('data/yeast.json', 'r')\n",
    "cyjs_network = json.load(f)\n",
    "cyjs_network['data']['name'] = 'Yeast 1' \n",
    "\n",
    "res = create('networks', cyjs_network)\n",
    "suid = res.json()['networkSUID']\n",
    "\n",
    "# Apply Visual Style \"default\"\n",
    "requests.get(BASE + 'apply/styles/default')\n",
    "requests.get(BASE + 'apply/layouts/degree-circle/' + str(suid))\n",
    "\n",
    "paints = defaults_df[defaults_df['visualProperty'].str.contains('COLOR')]\n",
    "\n",
    "paints.tail(10)"
   ]
  },
  {
   "cell_type": "code",
   "execution_count": null,
   "metadata": {
    "collapsed": false
   },
   "outputs": [],
   "source": [
    "Image(BASE+'networks/' + str(suid) + '/views/first.png')"
   ]
  },
  {
   "cell_type": "code",
   "execution_count": null,
   "metadata": {
    "collapsed": false
   },
   "outputs": [],
   "source": [
    "# Let's change some default values.\n",
    "new_values = [\n",
    "    {\n",
    "        'visualProperty':'NODE_FILL_COLOR',\n",
    "        'value': '#7080BF'\n",
    "    },\n",
    "    {\n",
    "        'visualProperty':'NODE_BORDER_WIDTH',\n",
    "        'value': 0\n",
    "    },\n",
    "    {\n",
    "        'visualProperty':'NODE_WIDTH',\n",
    "        'value': 60\n",
    "    },\n",
    "    {\n",
    "        'visualProperty': 'EDGE_WIDTH',\n",
    "        'value': 7\n",
    "    },\n",
    "    {\n",
    "        'visualProperty': 'NODE_TRANSPARENCY',\n",
    "        'value': 220\n",
    "    },\n",
    "    {\n",
    "        'visualProperty': 'EDGE_TRANSPARENCY',\n",
    "        'value': 200\n",
    "    }\n",
    "]\n",
    "\n",
    "update('styles/default/defaults', new_values)\n",
    "Image(BASE+'networks/' + str(suid) + '/views/first.png')"
   ]
  },
  {
   "cell_type": "markdown",
   "metadata": {},
   "source": [
    "### Excercise: Update default Values\n",
    "* Node Color\n",
    "* Edge Width\n",
    "* Node Shape\n"
   ]
  },
  {
   "cell_type": "code",
   "execution_count": null,
   "metadata": {
    "collapsed": true
   },
   "outputs": [],
   "source": [
    "# Write your code here..."
   ]
  },
  {
   "cell_type": "markdown",
   "metadata": {},
   "source": [
    "#### Mappings\n",
    "Mappings , or Visual Mapping Functions, are the actual mechanism to map data points to Visual Property values.  There are three types of mappings: discrete, continuous, and passthrough."
   ]
  },
  {
   "cell_type": "markdown",
   "metadata": {},
   "source": [
    "##### Passthrough\n",
    "___Passthrough Mapping___ is the simplest mapping mechanism in Cytoscape.  It simply map values to Visual Property.  For example, if you create a node name to node label mapping, it simply passes the node name text to the Mapping Function and displays as node label. "
   ]
  },
  {
   "cell_type": "code",
   "execution_count": null,
   "metadata": {
    "collapsed": false
   },
   "outputs": [],
   "source": [
    "# Create a Passthrough mapping\n",
    "new_passthrough_mapping = {\n",
    "    'mappingType': 'passthrough',\n",
    "    'mappingColumn': 'degree.layout',\n",
    "    'mappingColumnType': 'Integer',\n",
    "    'visualProperty': 'NODE_LABEL',\n",
    "}\n",
    "\n",
    "# Create a new style by POSTing the object\n",
    "create('styles/default/mappings', [new_passthrough_mapping])\n",
    "Image(BASE+'networks/' + str(suid) + '/views/first.png')"
   ]
  },
  {
   "cell_type": "markdown",
   "metadata": {},
   "source": [
    "##### Discrete\n",
    "Discrete mapping is the one maps discrete data points to any Visual Properties.  Here is the list of typical discrete mappings:\n",
    "\n",
    "* Node type (gene, protein complex, small compounds, etc.) to node shape\n",
    "* Node type to size\n",
    "* Interaction type (inhibition / activation) to arrow shape\n",
    "* Interaction detection method (Y2H, co-expression, text mining, etc.) to edge line style"
   ]
  },
  {
   "cell_type": "code",
   "execution_count": null,
   "metadata": {
    "collapsed": false
   },
   "outputs": [],
   "source": [
    "# Create discrete mapping\n",
    "new_disc_mapping = {\n",
    "    'mappingType': 'discrete',\n",
    "    'mappingColumn': 'interaction',\n",
    "    'mappingColumnType': 'String',\n",
    "    'visualProperty': 'EDGE_STROKE_UNSELECTED_PAINT',\n",
    "    'map':[\n",
    "        {\n",
    "            'key': 'pp',\n",
    "            'value': '#778899'\n",
    "        },\n",
    "        {\n",
    "            'key': 'pd',\n",
    "            'value': '#4876FF'\n",
    "        }\n",
    "    ]\n",
    "}\n",
    "\n",
    "create('styles/default/mappings', [new_disc_mapping])\n",
    "Image(BASE+'networks/' + str(suid) + '/views/first.png')"
   ]
  },
  {
   "cell_type": "markdown",
   "metadata": {},
   "source": [
    "##### Continuous"
   ]
  },
  {
   "cell_type": "code",
   "execution_count": null,
   "metadata": {
    "collapsed": false
   },
   "outputs": [],
   "source": [
    "new_cont_mapping = {\n",
    "    'mappingType': 'continuous',\n",
    "    'mappingColumn': 'degree.layout',\n",
    "    'mappingColumnType': 'Integer',\n",
    "    'visualProperty': 'NODE_HEIGHT',\n",
    "    'points':[\n",
    "        {\n",
    "            'value': 1,\n",
    "            'lesser': '20',\n",
    "            'equal': '20',\n",
    "            'greater': '20'\n",
    "        },\n",
    "        {\n",
    "            'value': 20,\n",
    "            'lesser': '2000',\n",
    "            'equal': '2000',\n",
    "            'greater': '2000'\n",
    "        }\n",
    "    ]\n",
    "}\n",
    "\n",
    "create('styles/default/mappings', [new_cont_mapping])\n",
    "Image(BASE+'networks/' + str(suid) + '/views/first.png')"
   ]
  },
  {
   "cell_type": "markdown",
   "metadata": {},
   "source": [
    "Now you can see the new mapping in the Cytoscape's Control Panel:\n",
    "\n",
    "![](http://cl.ly/aKNs/cont_mapping1.png)\n"
   ]
  },
  {
   "cell_type": "markdown",
   "metadata": {},
   "source": [
    "### Apply Automatic Layout"
   ]
  },
  {
   "cell_type": "code",
   "execution_count": null,
   "metadata": {
    "collapsed": false
   },
   "outputs": [],
   "source": [
    "# Apply force-directd layout\n",
    "requests.get(BASE + 'apply/layouts/force-directed/' + str(suid))\n",
    "Image(BASE+'networks/' + str(suid) + '/views/first.png')"
   ]
  },
  {
   "cell_type": "markdown",
   "metadata": {},
   "source": [
    "## Discussion\n",
    "OK, now you can create any mappings from Python.  But editing code like this manyally is a pain...  \n",
    "\n",
    "### _Don't repeat yourself!_\n",
    "The true power of __workflow-as-code__ is its reproducibility.  You can easily apply your existing code to other data sets.  The first step to reusability is writing common tasks as functions."
   ]
  },
  {
   "cell_type": "code",
   "execution_count": null,
   "metadata": {
    "collapsed": false
   },
   "outputs": [],
   "source": [
    "def get_basic_mapping(map_type, column, column_type, vp):\n",
    "    new_mapping = {\n",
    "         'mappingType': map_type,\n",
    "        'mappingColumn': column,\n",
    "        'mappingColumnType': column_type,\n",
    "        'visualProperty': vp,\n",
    "    }\n",
    "    return new_mapping\n",
    "    \n",
    "def get_discrete_mapping(column, column_type, vp):\n",
    "    mapping = get_basic_mapping('discrete', column, column_type, vp)\n",
    "    mapping['map'] = []\n",
    "    return mapping\n",
    "\n",
    "def get_continuous_mapping(column, column_type, vp):\n",
    "    mapping = get_basic_mapping('continuous', column, column_type, vp)\n",
    "    mapping['points'] = []\n",
    "    return mapping\n",
    "\n",
    "def get_passthrough_mapping(column, column_type, vp):\n",
    "    return get_basic_mapping('passthrough', column, column_type, vp)"
   ]
  },
  {
   "cell_type": "markdown",
   "metadata": {},
   "source": [
    "And now you can do all kinds of crazy thing if you want..."
   ]
  },
  {
   "cell_type": "code",
   "execution_count": null,
   "metadata": {
    "collapsed": false,
    "scrolled": false
   },
   "outputs": [],
   "source": [
    "# Find network ID\n",
    "res = requests.get(BASE + 'networks/' + str(suid) + '/nodes')\n",
    "node_suids = res.json()\n",
    "\n",
    "import random\n",
    "\n",
    "random_colors = []\n",
    "for node in node_suids:\n",
    "    entry = {\n",
    "        'key': str(node),\n",
    "        'value': '#' + format(random.randint(1,255), 'X') + format(random.randint(1,255), 'X') + format(random.randint(1,255), 'X')\n",
    "    }\n",
    "    random_colors.append(entry)\n",
    "    \n",
    "random_color_mapping = get_discrete_mapping('SUID', 'Long', 'NODE_FILL_COLOR')\n",
    "random_color_mapping['map'] = random_colors\n",
    "\n",
    "create('styles/default/mappings', [random_color_mapping])\n",
    "Image(BASE+'networks/' + str(suid) + '/views/first.png')"
   ]
  },
  {
   "cell_type": "markdown",
   "metadata": {},
   "source": [
    "And it is easy to reset it, by simply deleting the mapping."
   ]
  },
  {
   "cell_type": "code",
   "execution_count": null,
   "metadata": {
    "collapsed": false
   },
   "outputs": [],
   "source": [
    "res = requests.delete(BASE + 'styles/default/mappings/NODE_FILL_COLOR')\n",
    "Image(BASE+'networks/' + str(suid) + '/views/first.png')"
   ]
  },
  {
   "cell_type": "markdown",
   "metadata": {},
   "source": [
    "#### Is it worth wrting a new Python package?\n"
   ]
  },
  {
   "cell_type": "markdown",
   "metadata": {},
   "source": [
    "### Directly Set Visual Properties\n",
    "In general, Cytoscape visualizations are controlled by _Visual Styles_.  However, in some cases, you may want to edit the view directly.  Typical example is layout.  cyREST provides low level API to access View objects.  In this section, you will learn how to set view values through writing your own layout algorithm.\n",
    "\n",
    "### Write your own layout algorithm\n",
    "You can move node (x,y) positions by setting new values for two Visual Properties:\n",
    "* __NODE_X_LOCATION__\n",
    "* __NODE_Y_LOCATION__\n",
    "\n",
    "The following is a simple example to arrange all nodes in one line."
   ]
  },
  {
   "cell_type": "code",
   "execution_count": null,
   "metadata": {
    "collapsed": false,
    "scrolled": false
   },
   "outputs": [],
   "source": [
    "# Find the Network View ID\n",
    "res = requests.get(BASE + 'networks/' + str(suid) + '/views')\n",
    "view_id = res.json()[0]\n",
    "DISPLACEMENT = 64\n",
    "\n",
    "def linear_layout(suid, node_list):\n",
    "    # Node X Position = size\n",
    "    position_x = []\n",
    "    position_y = []\n",
    "    start_pos = 0\n",
    "    for node in node_list:\n",
    "        x = {\n",
    "            'SUID': node,\n",
    "            'view':[\n",
    "                {\n",
    "                    'visualProperty': 'NODE_X_LOCATION',\n",
    "                    'value': start_pos\n",
    "                },\n",
    "                {\n",
    "                    'visualProperty': 'NODE_Y_LOCATION',\n",
    "                    'value': 0\n",
    "                }\n",
    "            ]\n",
    "        }\n",
    "        position_x.append(x)\n",
    "        start_pos = start_pos + DISPLACEMENT\n",
    "    return position_x\n",
    "    \n",
    "\n",
    "# Add edge bend information\n",
    "bend = [\n",
    "    {\n",
    "        'visualProperty':'EDGE_BEND',\n",
    "        'value': '0.5,-0.9,0.9'\n",
    "    }\n",
    "]\n",
    "update('styles/default/defaults', bend)\n",
    "\n",
    "posx = linear_layout(view_id, node_suids)\n",
    "node_views_url = 'networks/' + str(suid) + '/views/' + str(view_id) + '/nodes'\n",
    "res = update(node_views_url, posx)\n",
    "requests.get(BASE + 'apply/fit/' + str(suid))\n",
    "\n",
    "image_url = BASE+'networks/' + str(suid) + '/views/' + str(view_id) + '.png?h=650'\n",
    "print(image_url)\n",
    "res = requests.get(image_url)\n",
    "Image(res.content)"
   ]
  },
  {
   "cell_type": "code",
   "execution_count": null,
   "metadata": {
    "collapsed": false,
    "scrolled": true
   },
   "outputs": [],
   "source": [
    "res = requests.get(BASE + 'networks/' + str(suid) + '/tables/defaultnode')\n",
    "rows = res.json()['rows']\n",
    "node_table_df = pd.DataFrame(rows)\n",
    "node_table_df.head(10)"
   ]
  },
  {
   "cell_type": "code",
   "execution_count": null,
   "metadata": {
    "collapsed": false
   },
   "outputs": [],
   "source": [
    "sorted_nodes = node_table_df.sort_index(by=['degree_layout'])\n",
    "sorted_nodes.tail(10)"
   ]
  },
  {
   "cell_type": "code",
   "execution_count": null,
   "metadata": {
    "collapsed": false
   },
   "outputs": [],
   "source": [
    "sorted_node_suids = sorted_nodes['SUID']\n",
    "pos2 = sorted_node_suids.apply(lambda x: str(x))\n",
    "posx = linear_layout(view_id, pos2.tolist())\n",
    "\n",
    "res = update(node_views_url, posx)\n",
    "requests.get(BASE + 'apply/fit/' + str(suid))\n",
    "\n",
    "image_url = BASE+'networks/' + str(suid) + '/views/' + str(view_id) + '.png?h=650'\n",
    "print(image_url)\n",
    "res = requests.get(image_url)\n",
    "\n",
    "Image(res.content)"
   ]
  },
  {
   "cell_type": "markdown",
   "metadata": {},
   "source": [
    "## Save the final result as a _Session File_\n",
    "And now you can save the entire process as Notebooks, and the result as ___Session File___."
   ]
  },
  {
   "cell_type": "code",
   "execution_count": null,
   "metadata": {
    "collapsed": false
   },
   "outputs": [],
   "source": [
    "session_file_name = {\n",
    "    'file': '/Users/kono/Desktop/yeast_session.cys'\n",
    "}\n",
    "res = requests.post(BASE + 'session',  params=session_file_name, data=None, headers=HEADERS)\n",
    "print(json.dumps(res.json(), indent=4))"
   ]
  }
 ],
 "metadata": {
  "kernelspec": {
   "display_name": "Python 3",
   "language": "python",
   "name": "python3"
  },
  "language_info": {
   "codemirror_mode": {
    "name": "ipython",
    "version": 3
   },
   "file_extension": ".py",
   "mimetype": "text/x-python",
   "name": "python",
   "nbconvert_exporter": "python",
   "pygments_lexer": "ipython3",
   "version": "3.4.0"
  }
 },
 "nbformat": 4,
 "nbformat_minor": 0
}
